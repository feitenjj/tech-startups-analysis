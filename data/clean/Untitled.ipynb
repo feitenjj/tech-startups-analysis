{
 "cells": [
  {
   "cell_type": "code",
   "execution_count": 10,
   "id": "0dbd04be-d006-4c2e-9173-d29fcedde260",
   "metadata": {},
   "outputs": [
    {
     "name": "stdout",
     "output_type": "stream",
     "text": [
      "Successfully loaded final analysis DF from /Users/jannajulianfeiten/IronHack/final/tech-startups-analysis/data/clean/final_analysis_for_tableau.parquet\n"
     ]
    }
   ],
   "source": [
    "import polars as pl\n",
    "import os\n",
    "\n",
    "file_path_relative = \"/Users/jannajulianfeiten/IronHack/final/tech-startups-analysis/data/clean/final_analysis_for_tableau.parquet\" \n",
    "\n",
    "try:\n",
    "    df_final_t = pl.read_parquet(file_path_relative)\n",
    "    \n",
    "    print(f\"Successfully loaded final analysis DF from {file_path_relative}\")\n",
    "\n",
    "\n",
    "except FileNotFoundError:\n",
    "    print(\"Error: File not found at\")"
   ]
  },
  {
   "cell_type": "code",
   "execution_count": 11,
   "id": "9a574b13-2044-473b-92a8-87157bf63e03",
   "metadata": {},
   "outputs": [
    {
     "name": "stdout",
     "output_type": "stream",
     "text": [
      "Conversão concluída com sucesso!\n",
      "O arquivo 'final_analysis_for_tableau.csv' está pronto para ser carregado no Tableau Public.\n"
     ]
    }
   ],
   "source": [
    "import pandas as pd\n",
    "\n",
    "# Nome do arquivo que você acabou de criar e que contém as novas colunas\n",
    "INPUT_FILE_PARQUET = 'final_analysis_for_tableau.parquet'\n",
    "# Nome do novo arquivo que o Tableau Public irá aceitar\n",
    "OUTPUT_FILE_CSV = 'final_analysis_for_tableau.csv' \n",
    "\n",
    "try:\n",
    "    # 1. Carregar o Parquet\n",
    "    df = pd.read_parquet(INPUT_FILE_PARQUET)\n",
    "    \n",
    "    # 2. Salvar como CSV\n",
    "    df.to_csv(OUTPUT_FILE_CSV, index=False)\n",
    "    \n",
    "    print(f\"Conversão concluída com sucesso!\")\n",
    "    print(f\"O arquivo '{OUTPUT_FILE_CSV}' está pronto para ser carregado no Tableau Public.\")\n",
    "    \n",
    "except FileNotFoundError:\n",
    "    print(f\"ERRO: O arquivo de entrada '{INPUT_FILE_PARQUET}' não foi encontrado. Certifique-se de que ele foi criado no passo anterior.\")\n",
    "except Exception as e:\n",
    "    print(f\"Ocorreu um erro durante a conversão: {e}\")"
   ]
  },
  {
   "cell_type": "code",
   "execution_count": null,
   "id": "871946e4-d8fe-4590-8dc9-85295e673252",
   "metadata": {},
   "outputs": [],
   "source": []
  }
 ],
 "metadata": {
  "kernelspec": {
   "display_name": "Python (Tech Startups)",
   "language": "python",
   "name": "tech-startups"
  },
  "language_info": {
   "codemirror_mode": {
    "name": "ipython",
    "version": 3
   },
   "file_extension": ".py",
   "mimetype": "text/x-python",
   "name": "python",
   "nbconvert_exporter": "python",
   "pygments_lexer": "ipython3",
   "version": "3.10.19"
  }
 },
 "nbformat": 4,
 "nbformat_minor": 5
}

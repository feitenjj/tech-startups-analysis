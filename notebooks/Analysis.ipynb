{
 "cells": [
  {
   "cell_type": "code",
   "execution_count": 1,
   "id": "f854cbd5-8d57-4158-a9b8-fcba6b5b4e7d",
   "metadata": {},
   "outputs": [
    {
     "name": "stdout",
     "output_type": "stream",
     "text": [
      "Successfully loaded final analysis DF from ../data/clean/final_analysis_merged.parquet\n",
      "Final DataFrame Shape: (66467, 10)\n",
      "shape: (5, 10)\n",
      "┌───────────┬───────────┬───────────┬───────────┬───┬───────────┬───────────┬───────────┬──────────┐\n",
      "│ company   ┆ country   ┆ founded_y ┆ industry  ┆ … ┆ valuation ┆ date_join ┆ investors ┆ is_unico │\n",
      "│ ---       ┆ ---       ┆ ear       ┆ ---       ┆   ┆ _b_unicor ┆ ed_unicor ┆ _count_un ┆ rn       │\n",
      "│ str       ┆ str       ┆ ---       ┆ str       ┆   ┆ n         ┆ n         ┆ icorn     ┆ ---      │\n",
      "│           ┆           ┆ i32       ┆           ┆   ┆ ---       ┆ ---       ┆ ---       ┆ bool     │\n",
      "│           ┆           ┆           ┆           ┆   ┆ f64       ┆ i32       ┆ i64       ┆          │\n",
      "╞═══════════╪═══════════╪═══════════╪═══════════╪═══╪═══════════╪═══════════╪═══════════╪══════════╡\n",
      "│ Wetpaint  ┆ United    ┆ 2005      ┆ web       ┆ … ┆ null      ┆ null      ┆ null      ┆ false    │\n",
      "│           ┆ States    ┆           ┆           ┆   ┆           ┆           ┆           ┆          │\n",
      "│ Synergie  ┆ MAR       ┆ 2007      ┆ advertisi ┆ … ┆ null      ┆ null      ┆ null      ┆ false    │\n",
      "│ Media     ┆           ┆           ┆ ng        ┆   ┆           ┆           ┆           ┆          │\n",
      "│ Green     ┆ India     ┆ 2008      ┆ cleantech ┆ … ┆ null      ┆ null      ┆ null      ┆ false    │\n",
      "│ Basti Eco ┆           ┆           ┆           ┆   ┆           ┆           ┆           ┆          │\n",
      "│ systems   ┆           ┆           ┆           ┆   ┆           ┆           ┆           ┆          │\n",
      "│ Dimension ┆ United    ┆ 2008      ┆ advertisi ┆ … ┆ null      ┆ null      ┆ null      ┆ false    │\n",
      "│ 5 Labs    ┆ States    ┆           ┆ ng        ┆   ┆           ┆           ┆           ┆          │\n",
      "│ Friendfee ┆ United    ┆ 2007      ┆ web       ┆ … ┆ null      ┆ null      ┆ null      ┆ false    │\n",
      "│ d         ┆ States    ┆           ┆           ┆   ┆           ┆           ┆           ┆          │\n",
      "└───────────┴───────────┴───────────┴───────────┴───┴───────────┴───────────┴───────────┴──────────┘\n"
     ]
    }
   ],
   "source": [
    "import polars as pl\n",
    "import os\n",
    "\n",
    "# Tente o caminho relativo que sobe um nível (../)\n",
    "file_path_relative = \"../data/clean/final_analysis_merged.parquet\" \n",
    "\n",
    "try:\n",
    "    df_final = pl.read_parquet(file_path_relative)\n",
    "    \n",
    "    print(f\"Successfully loaded final analysis DF from {file_path_relative}\")\n",
    "    print(f\"Final DataFrame Shape: {df_final.shape}\")\n",
    "    print(df_final.head())\n",
    "\n",
    "except FileNotFoundError:\n",
    "    print(f\"Error: File not found at the relative path: {file_path_relative}\")\n",
    "\n",
    "\n",
    "df_companies = pl.read_parquet(\"../data/clean/companies_cleaned.parquet\")\n",
    "\n",
    "df_unicorns = pl.read_parquet(\"../data/clean/unicorns_standardized.parquet\")"
   ]
  },
  {
   "cell_type": "code",
   "execution_count": null,
   "id": "43799466-f24c-4311-8237-48bc0273bbdf",
   "metadata": {},
   "outputs": [],
   "source": []
  }
 ],
 "metadata": {
  "kernelspec": {
   "display_name": "Python (Tech Startups)",
   "language": "python",
   "name": "tech-startups"
  },
  "language_info": {
   "codemirror_mode": {
    "name": "ipython",
    "version": 3
   },
   "file_extension": ".py",
   "mimetype": "text/x-python",
   "name": "python",
   "nbconvert_exporter": "python",
   "pygments_lexer": "ipython3",
   "version": "3.10.19"
  }
 },
 "nbformat": 4,
 "nbformat_minor": 5
}
